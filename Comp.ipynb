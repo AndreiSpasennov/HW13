{
 "cells": [
  {
   "cell_type": "code",
   "execution_count": 27,
   "id": "9554b714-0ce2-4d36-aa8d-4234219e6d62",
   "metadata": {
    "tags": []
   },
   "outputs": [
    {
     "name": "stdout",
     "output_type": "stream",
     "text": [
      "0\n",
      "2\n",
      "4\n",
      "6\n",
      "8\n",
      "10\n"
     ]
    }
   ],
   "source": [
    "for i in range(6):\n",
    "    i *= 2\n",
    "    print(i)\n",
    "# complexity of example is O(n)"
   ]
  },
  {
   "cell_type": "code",
   "execution_count": 25,
   "id": "da22e819-be8c-42ee-8527-14a54be38cbb",
   "metadata": {
    "tags": []
   },
   "outputs": [
    {
     "name": "stdout",
     "output_type": "stream",
     "text": [
      "4\n",
      "7\n",
      "9\n",
      "10\n",
      "10\n",
      "15\n",
      "19\n",
      "22\n",
      "24\n",
      "30\n",
      "35\n",
      "39\n",
      "46\n",
      "52\n",
      "60\n"
     ]
    }
   ],
   "source": [
    "a = 0;\n",
    "for i in range(5):\n",
    "    for j in reversed(range(i, 5)):\n",
    "        a = a + i + j\n",
    "        print(a)\n",
    "# complexity of example is O(n**2)"
   ]
  },
  {
   "cell_type": "code",
   "execution_count": 14,
   "id": "32773df9-ffe2-4e7c-85f7-e57079fe10d3",
   "metadata": {
    "tags": []
   },
   "outputs": [
    {
     "ename": "NameError",
     "evalue": "name 'x' is not defined",
     "output_type": "error",
     "traceback": [
      "\u001b[0;31m---------------------------------------------------------------------------\u001b[0m",
      "\u001b[0;31mNameError\u001b[0m                                 Traceback (most recent call last)",
      "Cell \u001b[0;32mIn[14], line 5\u001b[0m\n\u001b[1;32m      1\u001b[0m \u001b[38;5;28;01mdef\u001b[39;00m \u001b[38;5;21malgo\u001b[39m(items):\n\u001b[1;32m      2\u001b[0m     \u001b[38;5;28mprint\u001b[39m(\u001b[38;5;28mmin\u001b[39m(x)\u001b[38;5;241m+\u001b[39m\u001b[38;5;241m5\u001b[39m)\n\u001b[0;32m----> 5\u001b[0m \u001b[43malgo\u001b[49m\u001b[43m(\u001b[49m\u001b[43m[\u001b[49m\u001b[38;5;241;43m4\u001b[39;49m\u001b[43m,\u001b[49m\u001b[43m \u001b[49m\u001b[38;5;241;43m5\u001b[39;49m\u001b[43m,\u001b[49m\u001b[43m \u001b[49m\u001b[38;5;241;43m6\u001b[39;49m\u001b[43m,\u001b[49m\u001b[43m \u001b[49m\u001b[38;5;241;43m8\u001b[39;49m\u001b[43m,\u001b[49m\u001b[43m \u001b[49m\u001b[38;5;241;43m-\u001b[39;49m\u001b[38;5;241;43m5\u001b[39;49m\u001b[43m,\u001b[49m\u001b[43m \u001b[49m\u001b[38;5;241;43m10\u001b[39;49m\u001b[43m,\u001b[49m\u001b[43m \u001b[49m\u001b[38;5;241;43m12\u001b[39;49m\u001b[43m]\u001b[49m\u001b[43m)\u001b[49m\n\u001b[1;32m      6\u001b[0m \u001b[38;5;66;03m# complexity of example is O(c)\u001b[39;00m\n",
      "Cell \u001b[0;32mIn[14], line 2\u001b[0m, in \u001b[0;36malgo\u001b[0;34m(items)\u001b[0m\n\u001b[1;32m      1\u001b[0m \u001b[38;5;28;01mdef\u001b[39;00m \u001b[38;5;21malgo\u001b[39m(items):\n\u001b[0;32m----> 2\u001b[0m     \u001b[38;5;28mprint\u001b[39m(\u001b[38;5;28mmin\u001b[39m(\u001b[43mx\u001b[49m)\u001b[38;5;241m+\u001b[39m\u001b[38;5;241m5\u001b[39m)\n",
      "\u001b[0;31mNameError\u001b[0m: name 'x' is not defined"
     ]
    }
   ],
   "source": [
    "def algo(items):\n",
    "    print(min(x)+5)\n",
    "\n",
    "\n",
    "algo([4, 5, 6, 8, -5, 10, 12])\n",
    "# complexity of example is O(c)"
   ]
  },
  {
   "cell_type": "code",
   "execution_count": 26,
   "id": "46ac4426-cfee-4202-aff6-c569deff895f",
   "metadata": {
    "tags": []
   },
   "outputs": [
    {
     "name": "stdout",
     "output_type": "stream",
     "text": [
      "4\n",
      "9\n",
      "15\n",
      "22\n",
      "25\n",
      "29\n",
      "34\n",
      "36\n",
      "39\n",
      "40\n",
      "46\n",
      "53\n",
      "61\n",
      "66\n",
      "72\n",
      "76\n",
      "84\n",
      "93\n",
      "100\n",
      "110\n"
     ]
    }
   ],
   "source": [
    "a = 0\n",
    "for i in range(5):\n",
    "    for j in reversed(range(i, 5)):\n",
    "        for c in range(i, j):\n",
    "            a = a + i + j + c\n",
    "            print(a)\n",
    "# example of O(n**3) complexity "
   ]
  },
  {
   "cell_type": "code",
   "execution_count": null,
   "id": "7c871993-2f9c-43cd-a46a-4c8bfb8b6806",
   "metadata": {},
   "outputs": [],
   "source": []
  }
 ],
 "metadata": {
  "kernelspec": {
   "display_name": "Python 3 (ipykernel)",
   "language": "python",
   "name": "python3"
  },
  "language_info": {
   "codemirror_mode": {
    "name": "ipython",
    "version": 3
   },
   "file_extension": ".py",
   "mimetype": "text/x-python",
   "name": "python",
   "nbconvert_exporter": "python",
   "pygments_lexer": "ipython3",
   "version": "3.10.8"
  }
 },
 "nbformat": 4,
 "nbformat_minor": 5
}
